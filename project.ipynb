{
 "cells": [
  {
   "cell_type": "markdown",
   "metadata": {
    "id": "TSRH7vCSnRDb"
   },
   "source": [
    "## Project Food recognition\n",
    "A.Y. 2020/2021\n",
    "\n",
    "|  Surname | Name   | Matricola   | Accademic Mail   |\n",
    "|---|---|---|---|\n",
    "|Seroyizhko   | Pavlo     |  982598   | pavlo.seroyizhko@studio.unibo.it |\n",
    "|Wen          | Xiaowei   | 982501  | xiaowei.wen@studio.unibo.it  |"
   ]
  },
  {
   "cell_type": "markdown",
   "metadata": {
    "id": "pJGMrDbntwl3"
   },
   "source": [
    "# Mounting Google Drive"
   ]
  },
  {
   "cell_type": "code",
   "execution_count": 1,
   "metadata": {
    "colab": {
     "base_uri": "https://localhost:8080/"
    },
    "id": "hHGFP1O0FEh3",
    "outputId": "6b94f313-cc68-4844-dc8c-05f8b32f6c66"
   },
   "outputs": [
    {
     "name": "stdout",
     "output_type": "stream",
     "text": [
      "Mounted at /content/drive\n",
      "/content/drive/MyDrive/UNIBO/FirstYear/SecondSemester/Deeplearning/food_recognition_project\n"
     ]
    }
   ],
   "source": [
    "from google.colab import drive\n",
    "drive.mount(\"/content/drive\", force_remount=True)\n",
    "# PAVLO\n",
    "# %cd drive/MyDrive/food_recognition_project/\n",
    "\n",
    "# WEN\n",
    "%cd drive/MyDrive/UNIBO/FirstYear/SecondSemester/Deeplearning/food_recognition_project/"
   ]
  },
  {
   "cell_type": "markdown",
   "metadata": {
    "id": "H5n28JHXH0Ia"
   },
   "source": [
    "# Importing libraries & Configuring environment\n",
    "\n"
   ]
  },
  {
   "cell_type": "code",
   "execution_count": 4,
   "metadata": {
    "colab": {
     "base_uri": "https://localhost:8080/"
    },
    "id": "WwxSG3nxOvTv",
    "outputId": "cbe1999d-77a5-4b38-d453-44c6487d426e"
   },
   "outputs": [
    {
     "name": "stdout",
     "output_type": "stream",
     "text": [
      "Collecting segmentation-models\n",
      "  Downloading https://files.pythonhosted.org/packages/da/b9/4a183518c21689a56b834eaaa45cad242d9ec09a4360b5b10139f23c63f4/segmentation_models-1.0.1-py3-none-any.whl\n",
      "Collecting image-classifiers==1.0.0\n",
      "  Downloading https://files.pythonhosted.org/packages/81/98/6f84720e299a4942ab80df5f76ab97b7828b24d1de5e9b2cbbe6073228b7/image_classifiers-1.0.0-py3-none-any.whl\n",
      "Collecting efficientnet==1.0.0\n",
      "  Downloading https://files.pythonhosted.org/packages/97/82/f3ae07316f0461417dc54affab6e86ab188a5a22f33176d35271628b96e0/efficientnet-1.0.0-py3-none-any.whl\n",
      "Collecting keras-applications<=1.0.8,>=1.0.7\n",
      "\u001b[?25l  Downloading https://files.pythonhosted.org/packages/71/e3/19762fdfc62877ae9102edf6342d71b28fbfd9dea3d2f96a882ce099b03f/Keras_Applications-1.0.8-py3-none-any.whl (50kB)\n",
      "\u001b[K     |████████████████████████████████| 51kB 6.5MB/s \n",
      "\u001b[?25hRequirement already satisfied, skipping upgrade: scikit-image in /usr/local/lib/python3.7/dist-packages (from efficientnet==1.0.0->segmentation-models) (0.16.2)\n",
      "Requirement already satisfied, skipping upgrade: h5py in /usr/local/lib/python3.7/dist-packages (from keras-applications<=1.0.8,>=1.0.7->segmentation-models) (3.1.0)\n",
      "Requirement already satisfied, skipping upgrade: numpy>=1.9.1 in /usr/local/lib/python3.7/dist-packages (from keras-applications<=1.0.8,>=1.0.7->segmentation-models) (1.19.5)\n",
      "Requirement already satisfied, skipping upgrade: networkx>=2.0 in /usr/local/lib/python3.7/dist-packages (from scikit-image->efficientnet==1.0.0->segmentation-models) (2.5.1)\n",
      "Requirement already satisfied, skipping upgrade: PyWavelets>=0.4.0 in /usr/local/lib/python3.7/dist-packages (from scikit-image->efficientnet==1.0.0->segmentation-models) (1.1.1)\n",
      "Requirement already satisfied, skipping upgrade: imageio>=2.3.0 in /usr/local/lib/python3.7/dist-packages (from scikit-image->efficientnet==1.0.0->segmentation-models) (2.4.1)\n",
      "Requirement already satisfied, skipping upgrade: pillow>=4.3.0 in /usr/local/lib/python3.7/dist-packages (from scikit-image->efficientnet==1.0.0->segmentation-models) (7.1.2)\n",
      "Requirement already satisfied, skipping upgrade: matplotlib!=3.0.0,>=2.0.0 in /usr/local/lib/python3.7/dist-packages (from scikit-image->efficientnet==1.0.0->segmentation-models) (3.2.2)\n",
      "Requirement already satisfied, skipping upgrade: scipy>=0.19.0 in /usr/local/lib/python3.7/dist-packages (from scikit-image->efficientnet==1.0.0->segmentation-models) (1.4.1)\n",
      "Requirement already satisfied, skipping upgrade: cached-property; python_version < \"3.8\" in /usr/local/lib/python3.7/dist-packages (from h5py->keras-applications<=1.0.8,>=1.0.7->segmentation-models) (1.5.2)\n",
      "Requirement already satisfied, skipping upgrade: decorator<5,>=4.3 in /usr/local/lib/python3.7/dist-packages (from networkx>=2.0->scikit-image->efficientnet==1.0.0->segmentation-models) (4.4.2)\n",
      "Requirement already satisfied, skipping upgrade: cycler>=0.10 in /usr/local/lib/python3.7/dist-packages (from matplotlib!=3.0.0,>=2.0.0->scikit-image->efficientnet==1.0.0->segmentation-models) (0.10.0)\n",
      "Requirement already satisfied, skipping upgrade: python-dateutil>=2.1 in /usr/local/lib/python3.7/dist-packages (from matplotlib!=3.0.0,>=2.0.0->scikit-image->efficientnet==1.0.0->segmentation-models) (2.8.1)\n",
      "Requirement already satisfied, skipping upgrade: kiwisolver>=1.0.1 in /usr/local/lib/python3.7/dist-packages (from matplotlib!=3.0.0,>=2.0.0->scikit-image->efficientnet==1.0.0->segmentation-models) (1.3.1)\n",
      "Requirement already satisfied, skipping upgrade: pyparsing!=2.0.4,!=2.1.2,!=2.1.6,>=2.0.1 in /usr/local/lib/python3.7/dist-packages (from matplotlib!=3.0.0,>=2.0.0->scikit-image->efficientnet==1.0.0->segmentation-models) (2.4.7)\n",
      "Requirement already satisfied, skipping upgrade: six in /usr/local/lib/python3.7/dist-packages (from cycler>=0.10->matplotlib!=3.0.0,>=2.0.0->scikit-image->efficientnet==1.0.0->segmentation-models) (1.15.0)\n",
      "Installing collected packages: keras-applications, image-classifiers, efficientnet, segmentation-models\n",
      "Successfully installed efficientnet-1.0.0 image-classifiers-1.0.0 keras-applications-1.0.8 segmentation-models-1.0.1\n",
      "Segmentation Models: using `tf.keras` framework.\n"
     ]
    }
   ],
   "source": [
    "from pycocotools.coco import COCO\n",
    "import numpy as np\n",
    "import skimage.io as io\n",
    "import random\n",
    "import os\n",
    "from TiramisuNet import TiramisuNet\n",
    "import cv2\n",
    "import matplotlib.pyplot as plt\n",
    "import matplotlib.gridspec as gridspec\n",
    "from tensorflow import keras\n",
    "from keras.preprocessing.image import ImageDataGenerator\n",
    "import matplotlib.patches as mpatches\n",
    "import tensorflow as tf\n",
    "from keras import backend as K\n",
    "import pandas as pd\n",
    "from IPython.display import display, HTML\n",
    "%matplotlib inline\n",
    "import os\n",
    "os.environ['SM_FRAMEWORK'] = \"tf.keras\"\n",
    "\n",
    "!pip install -U segmentation-models # if running in local machine, execute this line in the terminal and comment it here. \n",
    "import segmentation_models as sm\n",
    "sm.set_framework(\"tf.keras\")\n",
    "import pandas as pd\n",
    "import threading"
   ]
  },
  {
   "cell_type": "markdown",
   "metadata": {
    "id": "DMAkdcUEs-zC"
   },
   "source": [
    "# Generators\n"
   ]
  },
  {
   "cell_type": "code",
   "execution_count": 5,
   "metadata": {
    "id": "WH31c8rPPVfc"
   },
   "outputs": [],
   "source": [
    "def getClassName(classID, cats):\n",
    "    for i in range(len(cats)):\n",
    "        if cats[i]['id']==classID:\n",
    "            return cats[i]['name']\n",
    "    return None\n",
    "\n",
    "def getImage(imageObj, img_folder, input_image_size):\n",
    "    # Read and normalize an image\n",
    "    train_img = io.imread(img_folder + '/' + imageObj['file_name'])/255.0\n",
    "    # Resize\n",
    "    train_img = cv2.resize(train_img, input_image_size)\n",
    "    if (len(train_img.shape)==3 and train_img.shape[2]==3): # If it is a RGB 3 channel image\n",
    "        return train_img\n",
    "    else: # To handle a black and white image, increase dimensions to 3\n",
    "        stacked_img = np.stack((train_img,)*3, axis=-1)\n",
    "        return stacked_img\n",
    "    \n",
    "\n",
    "\n",
    "\"\"\"\n",
    "input \n",
    "    imageObj: dict - Coco image annotaion\n",
    "    coco: Coco() - Coco object\n",
    "    catIDs: list - list of categories ids\n",
    "    catAllias : list - list of dict of format {categoriId: id_of_class}\n",
    "    input_image_size: tuple - desired image size (width, height)\n",
    "    \n",
    "output\n",
    "    masks: array - (width, height, n_cat) where n_cat is number of cotegories that are on the photo\n",
    "    cats: list - list of id assocciated with categories id taken from catAllias\n",
    "    \n",
    "\n",
    "\"\"\"\n",
    "\n",
    "def getMasksWithCats(imageObj, coco, catIDs, catAllias, input_image_size):\n",
    "    annIds = coco.getAnnIds(imageObj['id'], catIds=catIDs, iscrowd=None)\n",
    "    anns = coco.loadAnns(annIds)\n",
    "    cats = []\n",
    "    masks = np.zeros(input_image_size)\n",
    "    for a in range(len(anns)):\n",
    "        ann = anns[a]\n",
    "        cat_value = catAllias.loc[catAllias['cat_id'] == ann['category_id']]['class_id'].values[0]\n",
    "        new_mask = cv2.resize(coco.annToMask(ann)*cat_value, input_image_size)\n",
    "        masks = np.maximum(new_mask, masks)\n",
    "        if cat_value != 0:\n",
    "            cats.append(cat_value)\n",
    "\n",
    "\n",
    "    masks = np.rint(masks)\n",
    "    vals, count = np.unique(masks, return_counts=True)\n",
    "    vals = vals[count<100]\n",
    "    mm = np.isin(masks, vals)\n",
    "\n",
    "    masks[mm] = 0\n",
    "\n",
    "    return masks.reshape(input_image_size + (1,)), cats\n",
    "    \n",
    "\n",
    "def maskToNChannelMask(mask2d, cats, n_channels):\n",
    "    output = np.zeros((mask2d.shape + (n_classes,))).astype('float')\n",
    "    output[:,:,0] = 1.0\n",
    "    \n",
    "    for cat_value in cats:\n",
    "        n_mask = np.zeros(mask2d.shape).astype('float')\n",
    "        n_mask[mask2d==cat_value] = 1.0\n",
    "        output[:,:,cat_value] = n_mask\n",
    "        output[:,:,0] -= n_mask\n",
    "\n",
    "    \n",
    "    output[output[:,:,0] < 0] = 0\n",
    "\n",
    "    return output\n",
    "\n",
    "\"\"\"\n",
    "input\n",
    "\n",
    "    coco: COCO() - A COCO class with annotions of desired dataset\n",
    "    images: lsit - list of images obtained from COCO.loadImgs()\n",
    "    folder: String - root folder with coco images\n",
    "    input_image_size: tuple - desired image size (width, height)\n",
    "    catAllias : list - list of dict of format {categoriId: id_of_class}\n",
    "    mode: String - \"train\" | \"val\" | \"test\"\n",
    "    batch_size: Int - number of augmented images on output after calling next()\n",
    "    \n",
    "output\n",
    "\n",
    "    python generator function\n",
    "    \n",
    "\n",
    "    the function is a python generator function which on calling next() will return\n",
    "    \n",
    "    X: array of augmented images of size (batch_size, n, m, 3), where n is width and m is height\n",
    "    y: array of equally augmented masks of size (batch_size, n, m, n_classes), \n",
    "            array will be 0 for all the 4th dimensions that are not the id number of the category\n",
    "            \n",
    "    every batch is generated by 1 image on which is going to be applied the keras Image Generator\n",
    "\n",
    "\"\"\"\n",
    "\n",
    "def cocoDataGenerator(coco, images, folder, input_image_size, catAllias, mode='train', batch_size=16):\n",
    "    # coco parameters\n",
    "    c = 0 # index of desired image that will generate the batch\n",
    "    img_folder = '{}/images/{}'.format(folder, mode)\n",
    "    dataset_size = len(images)\n",
    "    #catIds = coco.getCatIds()\n",
    "    n_classes = len(catAllias)\n",
    "    random.shuffle(images)\n",
    "    lock = threading.Lock()\n",
    "    \n",
    "    catIds = catAllias['cat_id'].values.tolist()[1:]\n",
    "    \n",
    "    while(True):\n",
    "        with lock:\n",
    "            img = np.zeros((batch_size, input_image_size[0], input_image_size[1], 3)).astype('float')\n",
    "            mask = np.zeros((batch_size, input_image_size[0], input_image_size[1], n_classes)).astype('float')\n",
    "\n",
    "            for i in range(c, c+batch_size): #initially from 0 to batch_size, when c = 0\n",
    "                imageObj = images[i]\n",
    "\n",
    "                ### Retrieve Image ###\n",
    "                train_img = getImage(imageObj, img_folder, input_image_size)\n",
    "\n",
    "                im_masks, im_cats = getMasksWithCats(imageObj, coco, catIds, catAllias, input_image_size) \n",
    "                train_mask = maskToNChannelMask(im_masks[:,:,0], im_cats, n_classes)\n",
    "                \n",
    "                img[i-c] = train_img\n",
    "                mask[i-c] = train_mask\n",
    "                \n",
    "             \n",
    "\n",
    "            c+=batch_size\n",
    "            if(c + batch_size >= dataset_size):\n",
    "                c=0\n",
    "                random.shuffle(images)\n",
    "                \n",
    "        # visuallize images and masks\n",
    "        # for bbb in range(batch_size):\n",
    "        #   plt.subplot(121)\n",
    "        #   plt.imshow(img[bbb])\n",
    "        #   plt.subplot(122)\n",
    "        #   visuallizeMaskWithLabels(mask[bbb], cats, cat_allias)\n",
    "        yield img, mask\n",
    "        \n",
    "        \n",
    "def cocoDataGeneratorWithAugBalanced(coco, images, folder, input_image_size, cat_alliasDf, mode='train', batch_size=16):\n",
    "    \n",
    "    #aug parameters\n",
    "    seed = 32\n",
    "    augGeneratorArgs = dict(featurewise_center = False, \n",
    "                        samplewise_center = False,\n",
    "                        rotation_range = 5, \n",
    "                        width_shift_range = 0.01, \n",
    "                        height_shift_range = 0.01, \n",
    "                        brightness_range = (0.8,1.2),\n",
    "                        shear_range = 0.01,\n",
    "                        zoom_range = [1, 1.25],  \n",
    "                        horizontal_flip = True, \n",
    "                        vertical_flip = True,\n",
    "                        fill_mode = 'reflect',\n",
    "                        data_format = 'channels_last') # the arguments used by keras ImageGenerator for images\n",
    "    \n",
    "    augGeneratorArgs_mask = augGeneratorArgs.copy()\n",
    "    _ = augGeneratorArgs_mask.pop('brightness_range', None) # the arguments used by keras ImageGenerator for mask (same but without brightness)\n",
    "\n",
    "\n",
    "    # Initialize the mask data generator with modified args\n",
    "    image_gen = ImageDataGenerator(**augGeneratorArgs)\n",
    "    mask_gen = ImageDataGenerator(**augGeneratorArgs_mask)\n",
    "    \n",
    "    np.random.seed(seed) # to avoid randomness between image and masks\n",
    "    \n",
    "    # coco parameters\n",
    "    idx = 0 # index of desired image that will generate the batch\n",
    "    idx_full = 0\n",
    "    \n",
    "    img_folder = '{}/images/{}'.format(folder, mode)\n",
    "    \n",
    "    filterClasses = cat_alliasDf['cat_name'].values.tolist()\n",
    "    #catIDs = np.sort(coco.getCatIds(catNms=filterClasses))\n",
    "\n",
    "    dataset_size = len(images)\n",
    "    n_classes = cat_alliasDf.iloc[-1]['class_id'] + 1\n",
    "\n",
    "    n_images_per_class = cat_alliasDf.iloc[1]['n_images']\n",
    "    full_circle =  n_classes*n_images_per_class\n",
    "    catIds = cat_alliasDf['cat_id'].values.tolist()[1:]\n",
    "\n",
    "    images_per_class_to_do = np.ones(n_classes)*n_images_per_class\n",
    "    images_per_class_to_do[0] = 0\n",
    "    random.shuffle(images)\n",
    "    # infinite loop is required by keras model\n",
    "    print(f\"Generating {n_classes-1} classes with {n_images_per_class} images each\")\n",
    "    while(True):       \n",
    "\n",
    "        imageObj = images[idx]\n",
    "\n",
    "        #getMasksWithCats return array of masks for each category on the image and a list of squeezed categories \n",
    "        im_masks, im_cats = getMasksWithCats(imageObj, coco, catIds, cat_alliasDf, input_image_size) \n",
    "        n_masks = im_masks.shape[2]\n",
    "    \n",
    "        orig_num_of_imgs = cat_alliasDf[alliasDf['class_id'].isin(im_cats)]['n_images'].values\n",
    "        \n",
    "        im_cats_no_dubl = list(dict.fromkeys(im_cats))\n",
    "        \n",
    "        batch_start = 1\n",
    "        \n",
    "        if ((n_images_per_class - images_per_class_to_do[im_cats_no_dubl]) > orig_num_of_imgs).any():\n",
    "            batch_start = 0\n",
    "        #  output\n",
    "        X = np.zeros((batch_size, input_image_size[0], input_image_size[1],3)).astype('float')\n",
    "        y = np.zeros((batch_size, input_image_size[0], input_image_size[1],n_classes)).astype('float')\n",
    "        \n",
    "        if len(im_cats)>0 and (images_per_class_to_do[im_cats_no_dubl] > 0).any():\n",
    "            \n",
    "            img = getImage(imageObj, img_folder, input_image_size) #image_array\n",
    "            if batch_start == 1:\n",
    "                train_mask = maskToNChannelMask(im_masks[:,:,0], im_cats, n_classes)\n",
    "\n",
    "                X[0] = img\n",
    "                y[0] = train_mask\n",
    "\n",
    "            seed = np.random.choice(range(9999))\n",
    "            # keep the seeds syncronized otherwise the augmentation of the images \n",
    "            # will end up different from the augmentation of the masks\n",
    "\n",
    "            # image generator\n",
    "            g_x = image_gen.flow(img.reshape((1,)+img.shape), \n",
    "                                 batch_size = batch_size, \n",
    "                                 seed = seed)\n",
    "\n",
    "            # masks generators\n",
    "            g_ys = mask_gen.flow(im_masks.reshape((1,)+im_masks.shape), \n",
    "                                 batch_size = batch_size, \n",
    "                                 seed = seed)\n",
    "\n",
    "            for batch_num in range(batch_start, batch_size):\n",
    "                next_aug = g_x.next()/255.0\n",
    "                next_aug_mask = g_ys.next()[0,:,:,0]\n",
    "\n",
    "                vals, count = np.unique(next_aug_mask, return_counts=True)\n",
    "                vals = vals[count<100]\n",
    "                #print(vals)\n",
    "                #print(count)\n",
    "                mm = np.isin(next_aug_mask, vals)\n",
    "\n",
    "                next_aug_mask[mm] = 0\n",
    "\n",
    "                X[batch_num] = next_aug\n",
    "                y[batch_num] = maskToNChannelMask(next_aug_mask, im_cats, n_classes)\n",
    "\n",
    "\n",
    "            images_per_class_to_do[im_cats_no_dubl] -= 1\n",
    "\n",
    "            if np.sum(images_per_class_to_do) <= 0:\n",
    "                images_per_class_to_do = np.ones(n_classes)*n_images_per_class\n",
    "                images_per_class_to_do[0] = 0\n",
    "\n",
    "            yield X, y\n",
    "        \n",
    "        if idx_full >= full_circle-1:\n",
    "          images_per_class_to_do = np.ones(n_classes)*n_images_per_class\n",
    "          images_per_class_to_do[0] = 0\n",
    "          idx_full = 0\n",
    "        else:\n",
    "          idx_full += 1\n",
    "            \n",
    "        if idx >= dataset_size-1:\n",
    "            idx = 0\n",
    "            random.shuffle(images)\n",
    "        else:\n",
    "            idx += 1\n",
    "\n",
    "\n",
    "def collectImagesByClasses(coco, filterClasses):\n",
    "    images = []\n",
    "    if filterClasses!=None:\n",
    "        # iterate for each individual class in the list\n",
    "        for className in filterClasses:\n",
    "            # get all images containing given class\n",
    "            catIds = coco.getCatIds(catNms=className)\n",
    "            imgIds = coco.getImgIds(catIds=catIds)\n",
    "            images += coco.loadImgs(imgIds)\n",
    "    else:\n",
    "        imgIds = coco.getImgIds()\n",
    "        images = coco.loadImgs(imgIds)\n",
    "\n",
    "    # Now, filter out the repeated images    \n",
    "    unique_images = []\n",
    "    for i in range(len(images)):\n",
    "        if images[i] not in unique_images:\n",
    "            unique_images.append(images[i])\n",
    "\n",
    "    return unique_images\n",
    "\n",
    "def createCatAlliasDF(coco, n, classesToIgnore):\n",
    "    catsIds = coco.getCatIds()\n",
    "    cats = coco.loadCats(catsIds)\n",
    "    annIds = coco.getAnnIds()\n",
    "    anns = coco.loadAnns(annIds)\n",
    "    cat_freq = []\n",
    "    while anns:\n",
    "        cat = anns[0]['category_id']\n",
    "        if not (getClassName(cat, cats) in classesToIgnore):\n",
    "            f = 0\n",
    "            for ann in anns:\n",
    "                if ann['category_id'] == cat:\n",
    "                    f += 1\n",
    "\n",
    "            cat_freq.append({\"cat_id\":cat, \"freq\": f})\n",
    "\n",
    "        anns = [x for x in anns if x['category_id'] != cat]\n",
    "        \n",
    "    \n",
    "    cat_freq = sorted(cat_freq, key=lambda k: k[\"freq\"], reverse=True)\n",
    "    cat_freq = cat_freq[0:n]\n",
    "    cat_names = ['background']\n",
    "    cat_ids = [0]\n",
    "    freqs = [0]\n",
    "    for c in cat_freq:\n",
    "        cat_names.append(getClassName(c[\"cat_id\"], cats))\n",
    "        cat_ids.append(c[\"cat_id\"])\n",
    "        freqs.append(c[\"freq\"])\n",
    "    df = pd.DataFrame({'cat_name': cat_names, 'cat_id': cat_ids, 'class_id': range(0,n+1), 'n_images': freqs})\n",
    "    display(HTML(df.to_html()))\n",
    "    return df\n",
    "\n",
    "def nClassSegmantationToArray(mask, channelsToIgnore=[]):\n",
    "    output = np.zeros((mask.shape[0], mask.shape[1]))\n",
    "    for i in range(mask.shape[2]):\n",
    "        if len(np.unique(mask[:,:,i])) > 1 and i not in channelsToIgnore:\n",
    "            #print(f\"{i}: {np.unique(mask[:,:,i])}\")\n",
    "            output = np.maximum(output, mask[:,:,i]*i)\n",
    "    return output    \n",
    "\n",
    "def visuallizeMaskWithLabels(mask, catAllias):\n",
    "    mask = np.rint(mask)\n",
    "    if mask.shape[2] == 1: \n",
    "        mask = mask[:,:,0]\n",
    "    elif mask.shape[2] > 1:\n",
    "        mask = nClassSegmantationToArray(mask)\n",
    "\n",
    "    \n",
    "    values = np.unique(mask)\n",
    "    im = plt.imshow(mask)\n",
    "    colors = [ im.cmap(im.norm(value)) for value in values]\n",
    "    # create a patch (proxy artist) for every color \n",
    "    patches = [ mpatches.Patch(color=colors[i], label=catAllias.loc[catAllias['class_id']==values[i]]['cat_name'].values) for i in range(len(values)) ]\n",
    "    # put those patched as legend-handles into the legend\n",
    "    plt.legend(handles=patches, bbox_to_anchor=(1.05, 1), loc=2, borderaxespad=0. )\n",
    "    plt.show()\n",
    "    \n",
    "def visuallizePrediction(img, mask, catAllias, title, classesToIgnore=[], minPixls=100):\n",
    "    mask = np.rint(mask)\n",
    "    if mask.shape[2] == 1: \n",
    "        mask = mask[:,:,0]\n",
    "    elif mask.shape[2] > 1:\n",
    "        mask = filterPerNPixels(mask, minPixls)\n",
    "        mask = nClassSegmantationToArray(mask, classesToIgnore)\n",
    "    \n",
    "    values = np.unique(mask)\n",
    "    values = values[1:]\n",
    "    mask[mask==0] = np.nan\n",
    "    \n",
    "    fig, (ax1, ax2) = plt.subplots(1,2)\n",
    "    ax1.set_title(title)\n",
    "    ax1.imshow(img)\n",
    "    \n",
    "    ax2.imshow(img)\n",
    "    im = ax2.imshow(mask, alpha=0.4)\n",
    "    \n",
    "    colors = [ im.cmap(im.norm(value)) for value in values if value != np.nan]\n",
    "    # create a patch (proxy artist) for every color \n",
    "    patches = [ mpatches.Patch(color=colors[i], label=catAllias.loc[catAllias['class_id']==values[i]]['cat_name'].values) for i in range(len(values)) ]\n",
    "    # put those patched as legend-handles into the legend\n",
    "    plt.legend(handles=patches, bbox_to_anchor=(1.05, 1), loc=2, borderaxespad=0. )\n",
    "    plt.show()\n",
    "    \n",
    "    \n",
    "def filterPerNPixels(mask, minPxls=100):\n",
    "    vals, count = np.unique(mask, return_counts=True)\n",
    "    vals = vals[count<minPxls]\n",
    "    mm = np.isin(mask, vals)\n",
    "    mask[mm] = 0\n",
    "    return mask"
   ]
  },
  {
   "cell_type": "markdown",
   "metadata": {
    "id": "baI2bw-ktFln"
   },
   "source": [
    "# Data Forming"
   ]
  },
  {
   "cell_type": "code",
   "execution_count": 6,
   "metadata": {
    "colab": {
     "base_uri": "https://localhost:8080/"
    },
    "id": "IC_f8h6UPKQS",
    "outputId": "c5d1a271-0965-44d9-e7a3-84cdeaa5434f"
   },
   "outputs": [
    {
     "name": "stdout",
     "output_type": "stream",
     "text": [
      "loading annotations into memory...\n",
      "Done (t=1.92s)\n",
      "creating index...\n",
      "index created!\n",
      "loading annotations into memory...\n",
      "Done (t=0.08s)\n",
      "creating index...\n",
      "index created!\n",
      "loading annotations into memory...\n",
      "Done (t=0.08s)\n",
      "creating index...\n",
      "index created!\n"
     ]
    }
   ],
   "source": [
    "coco_train=COCO(\"annotations/train.json\")\n",
    "coco_val=COCO(\"annotations/val.json\")\n",
    "coco_test = COCO(\"annotations/test.json\")"
   ]
  },
  {
   "cell_type": "code",
   "execution_count": 7,
   "metadata": {
    "colab": {
     "base_uri": "https://localhost:8080/",
     "height": 557
    },
    "id": "WVEZxZmFNutu",
    "outputId": "1bdd14cd-d35c-4dc7-c8fd-64fba8570ed3"
   },
   "outputs": [
    {
     "data": {
      "text/html": [
       "<table border=\"1\" class=\"dataframe\">\n",
       "  <thead>\n",
       "    <tr style=\"text-align: right;\">\n",
       "      <th></th>\n",
       "      <th>cat_name</th>\n",
       "      <th>cat_id</th>\n",
       "      <th>class_id</th>\n",
       "      <th>n_images</th>\n",
       "    </tr>\n",
       "  </thead>\n",
       "  <tbody>\n",
       "    <tr>\n",
       "      <th>0</th>\n",
       "      <td>background</td>\n",
       "      <td>0</td>\n",
       "      <td>0</td>\n",
       "      <td>0</td>\n",
       "    </tr>\n",
       "    <tr>\n",
       "      <th>1</th>\n",
       "      <td>water</td>\n",
       "      <td>2578</td>\n",
       "      <td>1</td>\n",
       "      <td>1837</td>\n",
       "    </tr>\n",
       "    <tr>\n",
       "      <th>2</th>\n",
       "      <td>bread-white</td>\n",
       "      <td>1566</td>\n",
       "      <td>2</td>\n",
       "      <td>1276</td>\n",
       "    </tr>\n",
       "    <tr>\n",
       "      <th>3</th>\n",
       "      <td>salad-leaf-salad-green</td>\n",
       "      <td>1040</td>\n",
       "      <td>3</td>\n",
       "      <td>1190</td>\n",
       "    </tr>\n",
       "    <tr>\n",
       "      <th>4</th>\n",
       "      <td>tomato</td>\n",
       "      <td>1069</td>\n",
       "      <td>4</td>\n",
       "      <td>1072</td>\n",
       "    </tr>\n",
       "    <tr>\n",
       "      <th>5</th>\n",
       "      <td>butter</td>\n",
       "      <td>2053</td>\n",
       "      <td>5</td>\n",
       "      <td>1010</td>\n",
       "    </tr>\n",
       "    <tr>\n",
       "      <th>6</th>\n",
       "      <td>bread-wholemeal</td>\n",
       "      <td>1565</td>\n",
       "      <td>6</td>\n",
       "      <td>905</td>\n",
       "    </tr>\n",
       "    <tr>\n",
       "      <th>7</th>\n",
       "      <td>carrot</td>\n",
       "      <td>1078</td>\n",
       "      <td>7</td>\n",
       "      <td>898</td>\n",
       "    </tr>\n",
       "    <tr>\n",
       "      <th>8</th>\n",
       "      <td>rice</td>\n",
       "      <td>1468</td>\n",
       "      <td>8</td>\n",
       "      <td>659</td>\n",
       "    </tr>\n",
       "    <tr>\n",
       "      <th>9</th>\n",
       "      <td>egg</td>\n",
       "      <td>2022</td>\n",
       "      <td>9</td>\n",
       "      <td>632</td>\n",
       "    </tr>\n",
       "    <tr>\n",
       "      <th>10</th>\n",
       "      <td>mixed-vegetables</td>\n",
       "      <td>1022</td>\n",
       "      <td>10</td>\n",
       "      <td>627</td>\n",
       "    </tr>\n",
       "    <tr>\n",
       "      <th>11</th>\n",
       "      <td>wine-red</td>\n",
       "      <td>2618</td>\n",
       "      <td>11</td>\n",
       "      <td>546</td>\n",
       "    </tr>\n",
       "    <tr>\n",
       "      <th>12</th>\n",
       "      <td>jam</td>\n",
       "      <td>2099</td>\n",
       "      <td>12</td>\n",
       "      <td>505</td>\n",
       "    </tr>\n",
       "    <tr>\n",
       "      <th>13</th>\n",
       "      <td>apple</td>\n",
       "      <td>1151</td>\n",
       "      <td>13</td>\n",
       "      <td>504</td>\n",
       "    </tr>\n",
       "    <tr>\n",
       "      <th>14</th>\n",
       "      <td>potatoes-steamed</td>\n",
       "      <td>1010</td>\n",
       "      <td>14</td>\n",
       "      <td>452</td>\n",
       "    </tr>\n",
       "    <tr>\n",
       "      <th>15</th>\n",
       "      <td>banana</td>\n",
       "      <td>1154</td>\n",
       "      <td>15</td>\n",
       "      <td>412</td>\n",
       "    </tr>\n",
       "    <tr>\n",
       "      <th>16</th>\n",
       "      <td>cheese</td>\n",
       "      <td>1311</td>\n",
       "      <td>16</td>\n",
       "      <td>405</td>\n",
       "    </tr>\n",
       "  </tbody>\n",
       "</table>"
      ],
      "text/plain": [
       "<IPython.core.display.HTML object>"
      ]
     },
     "metadata": {
      "tags": []
     },
     "output_type": "display_data"
    }
   ],
   "source": [
    "alliasDf = createCatAlliasDF(coco_train, 16, classesToIgnore=[\"coffee-with-caffeine\", \"espresso-with-caffeine\"])\n",
    "filterClasses = alliasDf['cat_name'].values.tolist()[1:]\n",
    "cats = coco_train.getCatIds()\n",
    "images_train = collectImagesByClasses(coco_train, filterClasses)\n",
    "images_val = collectImagesByClasses(coco_val, filterClasses)\n",
    "images_test = collectImagesByClasses(coco_test, filterClasses)\n",
    "\n",
    "\n",
    "imgs_size = (192,192)\n",
    "n_train_imgs = len(images_train)\n",
    "n_val_imgs = len(images_val)\n",
    "n_classes = alliasDf.iloc[-1]['class_id']  + 1\n",
    "batch_size = 8\n",
    "steps_per_epoch = len(images_train)//batch_size\n",
    "# steps_per_epoch = n_classes * alliasDf.iloc[1]['n_images']"
   ]
  },
  {
   "cell_type": "code",
   "execution_count": 8,
   "metadata": {
    "id": "Jlp86tQQPVfj"
   },
   "outputs": [],
   "source": [
    "dg_train = cocoDataGeneratorWithAugBalanced(coco_train, images_train, os.getcwd(), imgs_size, alliasDf, batch_size=batch_size)\n",
    "dg_val = cocoDataGenerator(coco_val, images_val, os.getcwd(), imgs_size, alliasDf, mode = \"val\", batch_size=batch_size)\n",
    "dg_test = cocoDataGenerator(coco_test, images_test, os.getcwd(), imgs_size, alliasDf, mode = \"test\", batch_size=batch_size)"
   ]
  },
  {
   "cell_type": "code",
   "execution_count": 10,
   "metadata": {
    "id": "Joq9X3s4EwK1"
   },
   "outputs": [],
   "source": [
    "from IPython.display import clear_output\n",
    "\n",
    "def show_predictions():\n",
    "    result = model.predict(sample_image)\n",
    "    thr = 1/17\n",
    "    result[result>=thr] = 1.0\n",
    "    result[result<thr] = 0.0\n",
    "    visuallizePrediction(sample_image[0], result[0], alliasDf, title=\"50 epochs\", minPixls=100)\n",
    "\n",
    "\n",
    "class DisplayCallback(tf.keras.callbacks.Callback):\n",
    "    def on_epoch_end(self, epoch, logs=None):\n",
    "        clear_output(wait=True)\n",
    "        show_predictions()\n",
    "        print('\\nSample Prediction after epoch {}\\n'.format(epoch + 1))\n"
   ]
  },
  {
   "cell_type": "code",
   "execution_count": 11,
   "metadata": {
    "id": "-UBQ6NPziF4u"
   },
   "outputs": [],
   "source": [
    "sample_image, sample_mask = next(dg_test) # instantiating an image as the sample to be displayed at the end of each epoch\n"
   ]
  },
  {
   "cell_type": "markdown",
   "metadata": {
    "id": "qvzdAYO8H8bP"
   },
   "source": [
    "# Model Creation"
   ]
  },
  {
   "cell_type": "markdown",
   "metadata": {
    "id": "6DntiRHDjGzo"
   },
   "source": [
    "## loading all models with pre-trained weights"
   ]
  },
  {
   "cell_type": "code",
   "execution_count": null,
   "metadata": {
    "id": "C6Mma6De-thy"
   },
   "outputs": [],
   "source": [
    "model_weights = [\"food_recognition_focal_loss_no_aug.h5\",\n",
    "                 \"food_recognition_focal_loss_no_aug_100epochs.h5\",\n",
    "                 \"food_recognition_focal_loss_no_aug_75epochs.h5\",\n",
    "                 \"food_recognition_focal_loss_aug_50epochs.h5\",\n",
    "                 \"food_recognition_focal_loss_aug_75epochs.h5\"]\n",
    "\n",
    "models = []\n",
    "for file_name in model_weights:\n",
    "  model = TiramisuNet(input_shape=imgs_size + (3,), n_classes=n_classes)\n",
    "  model.compile(optimizer=tf.keras.optimizers.RMSprop(learning_rate=0.001),\n",
    "                  loss = sm.losses.categorical_focal_loss,\n",
    "                  metrics=[sm.metrics.iou_score,\n",
    "                            tf.keras.metrics.MeanIoU(num_classes=n_classes)])\n",
    "  model.load_weights(file_name)\n",
    "  models.append(model)\n"
   ]
  },
  {
   "cell_type": "markdown",
   "metadata": {
    "id": "XY2lD1zqjLXP"
   },
   "source": [
    "## Using a model"
   ]
  },
  {
   "cell_type": "code",
   "execution_count": null,
   "metadata": {
    "id": "oe_1cEZyfm9G"
   },
   "outputs": [],
   "source": [
    "model = TiramisuNet(\n",
    "    input_shape=imgs_size + (3,)\n",
    "    , n_classes=n_classes\n",
    "  )\n",
    "model.compile(optimizer=tf.keras.optimizers.RMSprop(learning_rate=0.001),\n",
    "                loss = sm.losses.categorical_focal_loss,\n",
    "                metrics=[sm.metrics.iou_score,\n",
    "                          tf.keras.metrics.MeanIoU(num_classes=n_classes)],)"
   ]
  },
  {
   "cell_type": "code",
   "execution_count": null,
   "metadata": {
    "id": "cY2wYySoBd1a"
   },
   "outputs": [],
   "source": [
    "model.summary()"
   ]
  },
  {
   "cell_type": "code",
   "execution_count": null,
   "metadata": {
    "id": "IIYlRqBgKp5M"
   },
   "outputs": [],
   "source": [
    "weight_to_load = \"food_recognition_focal_loss_no_aug.h5\"\n",
    "model.load_weights(weight_to_load)"
   ]
  },
  {
   "cell_type": "code",
   "execution_count": null,
   "metadata": {
    "colab": {
     "base_uri": "https://localhost:8080/",
     "height": 216
    },
    "id": "uDWfocQDeqTN",
    "outputId": "16ea3a7f-5d80-445f-870f-3a1fbbb2628f"
   },
   "outputs": [
    {
     "data": {
      "image/png": "[encoded data removed]",
      "text/plain": [
       "<Figure size 432x288 with 2 Axes>"
      ]
     },
     "metadata": {
      "needs_background": "light",
      "tags": []
     },
     "output_type": "display_data"
    }
   ],
   "source": [
    "sample_image, sample_mask = next(dg_test)\n",
    "show_predictions()"
   ]
  },
  {
   "cell_type": "markdown",
   "metadata": {
    "id": "noHUOkxHJb7I"
   },
   "source": [
    "# Training"
   ]
  },
  {
   "cell_type": "code",
   "execution_count": null,
   "metadata": {
    "id": "k37pxOALPVfl"
   },
   "outputs": [],
   "source": [
    "history = model.fit(x = dg_train\n",
    "              , validation_data = dg_val\n",
    "              , validation_steps = n_val_imgs//batch_size\n",
    "              , steps_per_epoch = steps_per_epoch\n",
    "              , epochs = 75\n",
    "              , workers = 1\n",
    "              , verbose = True\n",
    "              , callbacks=[DisplayCallback()]\n",
    "              )"
   ]
  },
  {
   "cell_type": "code",
   "execution_count": null,
   "metadata": {
    "id": "YHuANQzkjlcH"
   },
   "outputs": [],
   "source": [
    "print(history.history.keys())"
   ]
  },
  {
   "cell_type": "code",
   "execution_count": null,
   "metadata": {
    "colab": {
     "base_uri": "https://localhost:8080/",
     "height": 294
    },
    "id": "8xlK2G4Ho1Gz",
    "outputId": "46ea5c20-e197-43d9-f8ec-182074de15a9"
   },
   "outputs": [
    {
     "data": {
      "image/png": "[encoded data removed]",
      "text/plain": [
       "<Figure size 432x288 with 1 Axes>"
      ]
     },
     "metadata": {
      "needs_background": "light",
      "tags": []
     },
     "output_type": "display_data"
    }
   ],
   "source": [
    "plt.plot(history.history['loss'],label=\"loss\")\n",
    "plt.plot(history.history['iou_score'])\n",
    "plt.plot(history.history['mean_io_u'])\n",
    "plt.title('model training scores')\n",
    "plt.ylabel('Train')\n",
    "plt.xlabel('epoch')\n",
    "plt.legend(['loss', 'iou_score','mean_io_u'], loc='center right')\n",
    "plt.show()"
   ]
  },
  {
   "cell_type": "code",
   "execution_count": null,
   "metadata": {
    "colab": {
     "base_uri": "https://localhost:8080/",
     "height": 312
    },
    "id": "jE1QiTm-pbA6",
    "outputId": "8efb42c0-7c04-4da7-e00d-f09c2284b239"
   },
   "outputs": [
    {
     "name": "stdout",
     "output_type": "stream",
     "text": [
      "dict_keys(['loss', 'iou_score', 'mean_io_u', 'val_loss', 'val_iou_score', 'val_mean_io_u'])\n"
     ]
    },
    {
     "data": {
      "image/png": "[encoded data removed]",
      "text/plain": [
       "<Figure size 432x288 with 1 Axes>"
      ]
     },
     "metadata": {
      "needs_background": "light",
      "tags": []
     },
     "output_type": "display_data"
    }
   ],
   "source": [
    "\n",
    "# summarize history for accuracy\n",
    "plt.plot(history.history['val_loss'])\n",
    "plt.plot(history.history['val_iou_score'])\n",
    "plt.plot(history.history['val_mean_io_u'])\n",
    "plt.title('model val scores')\n",
    "plt.ylabel('Validation')\n",
    "plt.xlabel('epoch')\n",
    "plt.legend(['val_loss', 'val_iou_score','val_mean_io_u'], loc='center right')\n",
    "plt.show()"
   ]
  },
  {
   "cell_type": "code",
   "execution_count": null,
   "metadata": {
    "colab": {
     "base_uri": "https://localhost:8080/"
    },
    "id": "UNWGIbKDTpSR",
    "outputId": "b58ef343-3e4e-4b50-a361-ce3ed5bcef0c"
   },
   "outputs": [
    {
     "name": "stdout",
     "output_type": "stream",
     "text": [
      "argmax =28\n"
     ]
    },
    {
     "data": {
      "text/plain": [
       "0.5421110987663269"
      ]
     },
     "execution_count": 41,
     "metadata": {
      "tags": []
     },
     "output_type": "execute_result"
    }
   ],
   "source": [
    "print( f\"argmax ={np.argmax(history.history['val_mean_io_u'])}\")\n",
    "history.history[\"val_mean_io_u_2\"][np.argmax(history.history['val_mean_io_u'])]"
   ]
  },
  {
   "cell_type": "code",
   "execution_count": null,
   "metadata": {
    "id": "1vNQpPu29ZHH"
   },
   "outputs": [],
   "source": [
    "name_weights = \"\"\n",
    "model.save_weights(name_weights)"
   ]
  },
  {
   "cell_type": "markdown",
   "metadata": {
    "id": "T1EN1PyDtVd-"
   },
   "source": [
    "# Results visualization\n"
   ]
  },
  {
   "cell_type": "markdown",
   "metadata": {
    "id": "66Gs0nGJx6H2"
   },
   "source": [
    "## Single image visualization"
   ]
  },
  {
   "cell_type": "code",
   "execution_count": null,
   "metadata": {
    "id": "ZHGFMcPX15OE"
   },
   "outputs": [],
   "source": [
    "sample_image, sample_mask = next(dg_test)\n",
    "result = model.predict(sample_image)\n",
    "show_predictions()\n",
    "m = tf.keras.metrics.MeanIoU(num_classes=n_classes+1)\n",
    "thr = 1/17\n",
    "result[result>=thr] = 1.0\n",
    "result[result<thr] = 0.0\n",
    "m.update_state(sample_mask,result)\n",
    "iou = np.round(m.result().numpy(), decimals=2)\n",
    "print(f\"mean IoU is {iou}\")"
   ]
  },
  {
   "cell_type": "markdown",
   "metadata": {
    "id": "etNs_OsGxyZF"
   },
   "source": [
    "## Computing metrics across several images of test data set"
   ]
  },
  {
   "cell_type": "code",
   "execution_count": 23,
   "metadata": {
    "id": "f_GNRFyejVqe"
   },
   "outputs": [],
   "source": [
    "def recall_m(y_true, y_pred):\n",
    "    true_positives = K.sum(K.round(K.clip(y_true * y_pred, 0, 1)))\n",
    "    possible_positives = K.sum(K.round(K.clip(y_true, 0, 1)))\n",
    "    recall = true_positives / (possible_positives + K.epsilon())\n",
    "    return recall\n",
    "def precision_m(y_true, y_pred):\n",
    "    true_positives = K.sum(K.round(K.clip(y_true * y_pred, 0, 1)))\n",
    "    predicted_positives = K.sum(K.round(K.clip(y_pred, 0, 1)))\n",
    "    precision = true_positives / (predicted_positives + K.epsilon())\n",
    "    return precision\n",
    "\n",
    "def compute_mean_iou_per_image(models,mious,dataset=None, num=1):\n",
    "   m = tf.keras.metrics.MeanIoU(num_classes=n_classes+1)\n",
    "   for i in  range(len(models)):\n",
    "      model = models[i]\n",
    "      result = model.predict(sample_image)\n",
    "      thr = 1/17\n",
    "      result[result>=thr] = 1.0\n",
    "      result[result<thr] = 0.0\n",
    "      result = tf.cast(result, dtype=tf.float64)\n",
    "      m.reset_state()\n",
    "      m.update_state(sample_mask,result)\n",
    "      iou = np.round(m.result().numpy(), decimals=2)\n",
    "      mious[i].append(iou)\n",
    "      precisions[i].append(precision_m(sample_mask,result))\n",
    "      recalls[i].append(recall_m(sample_mask,result))"
   ]
  },
  {
   "cell_type": "code",
   "execution_count": null,
   "metadata": {
    "id": "pSQTtiBKAh09"
   },
   "outputs": [],
   "source": [
    "model_names = [\"model A\",\"model B\",\"model C\",\"model D\",\"model E\"]\n",
    "\n",
    "mious = []\n",
    "precisions=[]\n",
    "recalls =[]\n",
    "for i in range (len(models)):\n",
    "  mious.append([])\n",
    "  precisions.append([])\n",
    "  recalls.append([])\n",
    "i = 0\n",
    "for sample_image, sample_mask in dg_test:\n",
    "  compute_mean_iou_per_image(models, mious)\n",
    "  i+=1\n",
    "  if not i<=458:\n",
    "    break\n"
   ]
  },
  {
   "cell_type": "code",
   "execution_count": 27,
   "metadata": {
    "colab": {
     "base_uri": "https://localhost:8080/"
    },
    "id": "rrpZ3imOgOWm",
    "outputId": "1882307a-c8fb-4012-834d-18ae0ddf368c"
   },
   "outputs": [
    {
     "name": "stdout",
     "output_type": "stream",
     "text": [
      "Model with model A has mean IoU = 0.73, precision=0.54, recall = 0.94, and f1-score=0.68\n",
      "Model with model B has mean IoU = 0.75, precision=0.57, recall = 0.93, and f1-score=0.70\n",
      "Model with model C has mean IoU = 0.71, precision=0.50, recall = 0.89, and f1-score=0.64\n",
      "Model with model D has mean IoU = 0.75, precision=0.62, recall = 0.80, and f1-score=0.70\n",
      "Model with model E has mean IoU = 0.71, precision=0.54, recall = 0.78, and f1-score=0.64\n"
     ]
    }
   ],
   "source": [
    "f1_score = (2 * m_pre * m_recalls) /(m_pre + m_recalls)\n",
    "m_iou = np.mean(mious, axis=-1)\n",
    "m_pre = np.mean(precisions, axis=-1)\n",
    "m_recalls = np.mean(recalls, axis=-1)\n",
    "for i in range(len(models)):\n",
    "  print(f\"Model with {model_names[i]} has mean IoU = {m_iou[i]:.2f}, precision={m_pre[i]:.2f}, recall = {m_recalls[i]:.2f}, and f1-score={f1_score[i]:.2f}\")"
   ]
  }
 ],
 "metadata": {
  "accelerator": "GPU",
  "colab": {
   "collapsed_sections": [],
   "machine_shape": "hm",
   "name": "project.ipynb",
   "provenance": []
  },
  "kernelspec": {
   "display_name": "Python 3",
   "language": "python",
   "name": "python3"
  },
  "language_info": {
   "codemirror_mode": {
    "name": "ipython",
    "version": 3
   },
   "file_extension": ".py",
   "mimetype": "text/x-python",
   "name": "python",
   "nbconvert_exporter": "python",
   "pygments_lexer": "ipython3",
   "version": "3.7.9"
  }
 },
 "nbformat": 4,
 "nbformat_minor": 4
}
